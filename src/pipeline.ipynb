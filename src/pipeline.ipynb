{
 "cells": [
  {
   "cell_type": "code",
   "execution_count": 1,
   "metadata": {},
   "outputs": [
    {
     "data": {
      "text/plain": [
       "True"
      ]
     },
     "execution_count": 1,
     "metadata": {},
     "output_type": "execute_result"
    }
   ],
   "source": [
    "from dotenv import load_dotenv\n",
    "\n",
    "load_dotenv()"
   ]
  },
  {
   "cell_type": "markdown",
   "metadata": {},
   "source": [
    "I will simulate user entry:"
   ]
  },
  {
   "cell_type": "code",
   "execution_count": 2,
   "metadata": {},
   "outputs": [],
   "source": [
    "user_query = \"design me an edge detection algorithm that is accurate enough to make fractures in x-rays clearer\""
   ]
  },
  {
   "cell_type": "code",
   "execution_count": 3,
   "metadata": {},
   "outputs": [
    {
     "name": "stderr",
     "output_type": "stream",
     "text": [
      "c:\\Development\\academic-gpt\\.venv\\Lib\\site-packages\\tqdm\\auto.py:21: TqdmWarning: IProgress not found. Please update jupyter and ipywidgets. See https://ipywidgets.readthedocs.io/en/stable/user_install.html\n",
      "  from .autonotebook import tqdm as notebook_tqdm\n"
     ]
    },
    {
     "name": "stdout",
     "output_type": "stream",
     "text": [
      "Given a user-entered query, I want you to return a phrase that I can use as a search query (just the main topic/keywords of the search, no actions). Essentially, strip it down to something I would search on google- just keywords that I can use to search a database of academic documents, so no fluff. Please do not include anything else, just only return the string. I will tip you $1000 for high-quality answers.\n",
      "Example 1: user_query: 'explain to me mixture of experts'. Response 1: 'mixture of experts'.\n",
      "Example 2: user_query: 'design me an AI model for time-series forecasting state of the art'. Response: 'time-series forecasting'. \n",
      "\n",
      " user_query: design me an edge detection algorithm that is accurate enough to make fractures in x-rays clearer\n",
      "\u001b[32;1m\u001b[1;3m[llm/start]\u001b[0m \u001b[1m[llm:ChatOpenAI] Entering LLM run with input:\n",
      "\u001b[0m{\n",
      "  \"prompts\": [\n",
      "    \"System: You're a helpful assistant\\nHuman: Given a user-entered query, I want you to return a phrase that I can use as a search query (just the main topic/keywords of the search, no actions). Essentially, strip it down to something I would search on google- just keywords that I can use to search a database of academic documents, so no fluff. Please do not include anything else, just only return the string. I will tip you $1000 for high-quality answers.\\nExample 1: user_query: 'explain to me mixture of experts'. Response 1: 'mixture of experts'.\\nExample 2: user_query: 'design me an AI model for time-series forecasting state of the art'. Response: 'time-series forecasting'. \\n\\n user_query: design me an edge detection algorithm that is accurate enough to make fractures in x-rays clearer\"\n",
      "  ]\n",
      "}\n"
     ]
    },
    {
     "name": "stderr",
     "output_type": "stream",
     "text": [
      "INFO:httpx:HTTP Request: POST https://api.openai.com/v1/chat/completions \"HTTP/1.1 200 OK\"\n"
     ]
    },
    {
     "name": "stdout",
     "output_type": "stream",
     "text": [
      "\u001b[36;1m\u001b[1;3m[llm/end]\u001b[0m \u001b[1m[llm:ChatOpenAI] [543ms] Exiting LLM run with output:\n",
      "\u001b[0m{\n",
      "  \"generations\": [\n",
      "    [\n",
      "      {\n",
      "        \"text\": \"edge detection algorithm fractures x-rays\",\n",
      "        \"generation_info\": {\n",
      "          \"finish_reason\": \"stop\",\n",
      "          \"logprobs\": null\n",
      "        },\n",
      "        \"type\": \"ChatGeneration\",\n",
      "        \"message\": {\n",
      "          \"lc\": 1,\n",
      "          \"type\": \"constructor\",\n",
      "          \"id\": [\n",
      "            \"langchain\",\n",
      "            \"schema\",\n",
      "            \"messages\",\n",
      "            \"AIMessage\"\n",
      "          ],\n",
      "          \"kwargs\": {\n",
      "            \"content\": \"edge detection algorithm fractures x-rays\",\n",
      "            \"additional_kwargs\": {\n",
      "              \"refusal\": null\n",
      "            },\n",
      "            \"response_metadata\": {\n",
      "              \"token_usage\": {\n",
      "                \"completion_tokens\": 6,\n",
      "                \"prompt_tokens\": 184,\n",
      "                \"total_tokens\": 190,\n",
      "                \"completion_tokens_details\": {\n",
      "                  \"accepted_prediction_tokens\": 0,\n",
      "                  \"audio_tokens\": 0,\n",
      "                  \"reasoning_tokens\": 0,\n",
      "                  \"rejected_prediction_tokens\": 0\n",
      "                },\n",
      "                \"prompt_tokens_details\": {\n",
      "                  \"audio_tokens\": 0,\n",
      "                  \"cached_tokens\": 0\n",
      "                }\n",
      "              },\n",
      "              \"model_name\": \"gpt-4-0125-preview\",\n",
      "              \"system_fingerprint\": null,\n",
      "              \"finish_reason\": \"stop\",\n",
      "              \"logprobs\": null\n",
      "            },\n",
      "            \"type\": \"ai\",\n",
      "            \"id\": \"run-f3ed1147-d845-4fe8-aab2-0a60818eff6a-0\",\n",
      "            \"usage_metadata\": {\n",
      "              \"input_tokens\": 184,\n",
      "              \"output_tokens\": 6,\n",
      "              \"total_tokens\": 190,\n",
      "              \"input_token_details\": {\n",
      "                \"audio\": 0,\n",
      "                \"cache_read\": 0\n",
      "              },\n",
      "              \"output_token_details\": {\n",
      "                \"audio\": 0,\n",
      "                \"reasoning\": 0\n",
      "              }\n",
      "            },\n",
      "            \"tool_calls\": [],\n",
      "            \"invalid_tool_calls\": []\n",
      "          }\n",
      "        }\n",
      "      }\n",
      "    ]\n",
      "  ],\n",
      "  \"llm_output\": {\n",
      "    \"token_usage\": {\n",
      "      \"completion_tokens\": 6,\n",
      "      \"prompt_tokens\": 184,\n",
      "      \"total_tokens\": 190,\n",
      "      \"completion_tokens_details\": {\n",
      "        \"accepted_prediction_tokens\": 0,\n",
      "        \"audio_tokens\": 0,\n",
      "        \"reasoning_tokens\": 0,\n",
      "        \"rejected_prediction_tokens\": 0\n",
      "      },\n",
      "      \"prompt_tokens_details\": {\n",
      "        \"audio_tokens\": 0,\n",
      "        \"cached_tokens\": 0\n",
      "      }\n",
      "    },\n",
      "    \"model_name\": \"gpt-4-0125-preview\",\n",
      "    \"system_fingerprint\": null\n",
      "  },\n",
      "  \"run\": null,\n",
      "  \"type\": \"LLMResult\"\n",
      "}\n",
      "edge detection algorithm fractures x-rays\n"
     ]
    }
   ],
   "source": [
    "from llm import LLM\n",
    "\n",
    "llm = LLM()\n",
    "\n",
    "search_query = llm.template_query(\"user_to_search\", user_query=user_query)\n",
    "\n",
    "print(search_query)"
   ]
  },
  {
   "cell_type": "code",
   "execution_count": 4,
   "metadata": {},
   "outputs": [
    {
     "name": "stderr",
     "output_type": "stream",
     "text": [
      "INFO:arxiv:Requesting page (first: True, try: 0): https://export.arxiv.org/api/query?search_query=edge+detection+algorithm+fractures+x-rays&id_list=&sortBy=relevance&sortOrder=descending&start=0&max_results=100\n",
      "INFO:arxiv:Got first page: 100 of 519686 total results\n"
     ]
    }
   ],
   "source": [
    "from loader import ArxivLoader, arxiv\n",
    "\n",
    "arxiv_loader = ArxivLoader()\n",
    "\n",
    "docs = list(arxiv_loader.search(search_query))"
   ]
  },
  {
   "cell_type": "code",
   "execution_count": 5,
   "metadata": {},
   "outputs": [
    {
     "name": "stderr",
     "output_type": "stream",
     "text": [
      "INFO:httpx:HTTP Request: POST https://api.cohere.com/v2/rerank \"HTTP/1.1 200 OK\"\n"
     ]
    },
    {
     "data": {
      "text/plain": [
       "[(2, 0.53728414), (8, 0.3994602), (6, 0.20165595), (3, 0.052521676)]"
      ]
     },
     "execution_count": 5,
     "metadata": {},
     "output_type": "execute_result"
    }
   ],
   "source": [
    "from rerank import Reranker\n",
    "\n",
    "reranker = Reranker()\n",
    "\n",
    "reranked_indices = reranker.rerank(user_query, docs)\n",
    "\n",
    "reranked_indices"
   ]
  },
  {
   "cell_type": "code",
   "execution_count": 6,
   "metadata": {},
   "outputs": [
    {
     "name": "stdout",
     "output_type": "stream",
     "text": [
      "Category: eess.IV. Document Title: Pediatric Wrist Fracture Detection in X-rays via YOLOv10 Algorithm and Dual Label Assignment System. Published On: 2024-07-22 14:54:51+00:00. PDF URL: http://arxiv.org/pdf/2407.15689v2\n",
      "Category: cs.CV. Document Title: Weakly Supervised Universal Fracture Detection in Pelvic X-rays. Published On: 2019-09-04 20:04:50+00:00. PDF URL: http://arxiv.org/pdf/1909.02077v1\n",
      "Category: cs.CV. Document Title: Long-Bone Fracture Detection using Artificial Neural Networks based on Line Features of X-ray Images. Published On: 2019-02-20 08:51:41+00:00. PDF URL: http://arxiv.org/pdf/1902.07458v1\n",
      "Category: cs.CV. Document Title: Knowledge Distillation with Adaptive Asymmetric Label Sharpening for Semi-supervised Fracture Detection in Chest X-rays. Published On: 2020-12-30 23:12:40+00:00. PDF URL: http://arxiv.org/pdf/2012.15359v2\n",
      "Category: cs.CV. Document Title: Deep convolutional networks for automated detection of posterior-element fractures on spine CT. Published On: 2016-01-29 21:48:13+00:00. PDF URL: http://arxiv.org/pdf/1602.00020v1\n",
      "Category: cs.CV. Document Title: Intelligent Cervical Spine Fracture Detection Using Deep Learning Methods. Published On: 2023-11-09 19:34:42+00:00. PDF URL: http://arxiv.org/pdf/2311.05708v1\n",
      "Category: eess.IV. Document Title: A novel approach towards the classification of Bone Fracture from Musculoskeletal Radiography images using Attention Based Transfer Learning. Published On: 2024-10-18 19:07:24+00:00. PDF URL: http://arxiv.org/pdf/2410.14833v1\n",
      "Category: cs.GR. Document Title: Remeshing-Free Graph-Based Finite Element Method for Ductile and Brittle Fracture. Published On: 2021-03-27 10:04:36+00:00. PDF URL: http://arxiv.org/pdf/2103.14870v2\n",
      "Category: cs.CV. Document Title: Fracture Detection in Pediatric Wrist Trauma X-ray Images Using YOLOv8 Algorithm. Published On: 2023-04-11 09:08:09+00:00. PDF URL: http://arxiv.org/pdf/2304.05071v5\n",
      "Category: cs.GR. Document Title: Animating Fracture. Published On: 2023-03-20 01:06:35+00:00. PDF URL: http://arxiv.org/pdf/2303.10809v1\n"
     ]
    }
   ],
   "source": [
    "for doc in docs:\n",
    "  print(doc)"
   ]
  }
 ],
 "metadata": {
  "kernelspec": {
   "display_name": ".venv",
   "language": "python",
   "name": "python3"
  },
  "language_info": {
   "codemirror_mode": {
    "name": "ipython",
    "version": 3
   },
   "file_extension": ".py",
   "mimetype": "text/x-python",
   "name": "python",
   "nbconvert_exporter": "python",
   "pygments_lexer": "ipython3",
   "version": "3.11.3"
  }
 },
 "nbformat": 4,
 "nbformat_minor": 2
}
