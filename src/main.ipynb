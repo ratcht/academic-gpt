{
 "cells": [
  {
   "cell_type": "code",
   "execution_count": 2,
   "metadata": {},
   "outputs": [
    {
     "name": "stderr",
     "output_type": "stream",
     "text": [
      "/Users/alialh/Documents/academic-gpt/.venv/lib/python3.12/site-packages/tqdm/auto.py:21: TqdmWarning: IProgress not found. Please update jupyter and ipywidgets. See https://ipywidgets.readthedocs.io/en/stable/user_install.html\n",
      "  from .autonotebook import tqdm as notebook_tqdm\n"
     ]
    }
   ],
   "source": [
    "from llm import LLM\n",
    "from chroma import ChromaDB\n",
    "import pandas as pd\n",
    "import numpy as np"
   ]
  },
  {
   "cell_type": "code",
   "execution_count": 3,
   "metadata": {},
   "outputs": [
    {
     "name": "stderr",
     "output_type": "stream",
     "text": [
      "INFO:chromadb.telemetry.product.posthog:Anonymized telemetry enabled. See                     https://docs.trychroma.com/telemetry for more information.\n",
      "INFO:sentence_transformers.SentenceTransformer:Use pytorch device_name: mps\n",
      "INFO:sentence_transformers.SentenceTransformer:Load pretrained SentenceTransformer: Alibaba-NLP/gte-large-en-v1.5\n",
      "/Users/alialh/Documents/academic-gpt/.venv/lib/python3.12/site-packages/huggingface_hub/file_download.py:1132: FutureWarning: `resume_download` is deprecated and will be removed in version 1.0.0. Downloads always resume when possible. If you want to force a new download, use `force_download=True`.\n",
      "  warnings.warn(\n",
      "INFO:chromadb.api.segment:Collection default is not created.\n"
     ]
    }
   ],
   "source": [
    "chroma = ChromaDB(embedding_model=\"hf\", hf_model=\"Alibaba-NLP/gte-large-en-v1.5\")"
   ]
  },
  {
   "cell_type": "code",
   "execution_count": 5,
   "metadata": {},
   "outputs": [
    {
     "name": "stderr",
     "output_type": "stream",
     "text": [
      "INFO:root:Embeddings Result: (1, 1024)\n"
     ]
    }
   ],
   "source": [
    "ids, distances, metadatas, docs = chroma.query(\n",
    "  query_texts=[\"digital twins in robotics\"]\n",
    ")"
   ]
  },
  {
   "cell_type": "code",
   "execution_count": 7,
   "metadata": {},
   "outputs": [
    {
     "data": {
      "text/plain": [
       "[{'category': 'cs.DC',\n",
       "  'pdf_url': 'http://arxiv.org/pdf/2405.04743v2',\n",
       "  'published_on': '2024-05-08T01:14:24Z',\n",
       "  'title': 'Off-Road Autonomy Validation Using Scalable Digital Twin Simulations  Within High-Performance Computing Clusters'},\n",
       " {'category': 'cs.GL',\n",
       "  'pdf_url': 'http://arxiv.org/pdf/2202.07104v2',\n",
       "  'published_on': '2022-02-15T00:17:40Z',\n",
       "  'title': \"The Hitchhiker's Guide to Fused Twins: A Review of Access to Digital  Twins in situ in Smart Cities\"},\n",
       " {'category': 'cs.ET',\n",
       "  'pdf_url': 'http://arxiv.org/pdf/2406.02775v1',\n",
       "  'published_on': '2024-06-04T20:45:20Z',\n",
       "  'title': 'Diagnostic Digital Twin for Anomaly Detection in Floating Offshore Wind  Energy'},\n",
       " {'category': 'cs.MA',\n",
       "  'pdf_url': 'http://arxiv.org/pdf/2403.17209v2',\n",
       "  'published_on': '2024-03-25T21:37:30Z',\n",
       "  'title': 'Generation of Asset Administration Shell with Large Language Model  Agents: Towards Semantic Interoperability in Digital Twins in the Context of  Industry 4.0'},\n",
       " {'category': 'cs.RO',\n",
       "  'pdf_url': 'http://arxiv.org/pdf/2405.18860v2',\n",
       "  'published_on': '2024-05-29T08:15:56Z',\n",
       "  'title': 'Empowering Embodied Manipulation: A Bimanual-Mobile Robot Manipulation  Dataset for Household Tasks'},\n",
       " {'category': 'eess.SP',\n",
       "  'pdf_url': 'http://arxiv.org/pdf/2406.04188v1',\n",
       "  'published_on': '2024-06-06T15:44:52Z',\n",
       "  'title': 'Digital Twin Aided RIS Communication: Robust Beamforming and  Interference Management'},\n",
       " {'category': 'eess.SY',\n",
       "  'pdf_url': 'http://arxiv.org/pdf/2405.14144v2',\n",
       "  'published_on': '2024-05-23T03:38:00Z',\n",
       "  'title': 'A Single Motor Nano Aerial Vehicle with Novel Peer-to-Peer Communication  and Sensing Mechanism'},\n",
       " {'category': 'cs.RO',\n",
       "  'pdf_url': 'http://arxiv.org/pdf/2406.04086v1',\n",
       "  'published_on': '2024-06-06T13:57:05Z',\n",
       "  'title': 'A Survey of Language-Based Communication in Robotics'}]"
      ]
     },
     "execution_count": 7,
     "metadata": {},
     "output_type": "execute_result"
    }
   ],
   "source": [
    "docs"
   ]
  },
  {
   "cell_type": "code",
   "execution_count": null,
   "metadata": {},
   "outputs": [],
   "source": [
    "\n"
   ]
  }
 ],
 "metadata": {
  "kernelspec": {
   "display_name": ".venv",
   "language": "python",
   "name": "python3"
  },
  "language_info": {
   "codemirror_mode": {
    "name": "ipython",
    "version": 3
   },
   "file_extension": ".py",
   "mimetype": "text/x-python",
   "name": "python",
   "nbconvert_exporter": "python",
   "pygments_lexer": "ipython3",
   "version": "3.12.3"
  }
 },
 "nbformat": 4,
 "nbformat_minor": 2
}
